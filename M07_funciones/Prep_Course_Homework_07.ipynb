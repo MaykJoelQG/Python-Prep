{
 "cells": [
  {
   "attachments": {},
   "cell_type": "markdown",
   "metadata": {},
   "source": [
    "## Funciones"
   ]
  },
  {
   "attachments": {},
   "cell_type": "markdown",
   "metadata": {},
   "source": [
    "1) Crear una función que reciba un número como parámetro y devuelva True si es primo y False si no lo es"
   ]
  },
  {
   "cell_type": "code",
   "execution_count": 1,
   "metadata": {},
   "outputs": [],
   "source": [
    "#num=input('Dame un numero y veremos si es \"Primo\"')\n",
    "def verif_num_primo(num):\n",
    "    primo=True\n",
    "    for i in range(2,num):\n",
    "        if num%i==0:\n",
    "            primo=False\n",
    "    return primo        "
   ]
  },
  {
   "cell_type": "code",
   "execution_count": 76,
   "metadata": {},
   "outputs": [
    {
     "data": {
      "text/plain": [
       "True"
      ]
     },
     "execution_count": 76,
     "metadata": {},
     "output_type": "execute_result"
    }
   ],
   "source": [
    "verif_num_primo(31)"
   ]
  },
  {
   "attachments": {},
   "cell_type": "markdown",
   "metadata": {},
   "source": [
    "2) Utilizando la función del punto 1, realizar otra función que reciba de parámetro una lista de números y devuelva sólo aquellos que son primos en otra lista"
   ]
  },
  {
   "cell_type": "code",
   "execution_count": 2,
   "metadata": {},
   "outputs": [],
   "source": [
    "def lista_numeros_primos(lista):\n",
    "    lista_nueva = []\n",
    "    for g in lista:\n",
    "        if verif_num_primo(g):\n",
    "            lista_nueva.append(g)\n",
    "    return lista_nueva"
   ]
  },
  {
   "cell_type": "code",
   "execution_count": 3,
   "metadata": {},
   "outputs": [
    {
     "data": {
      "text/plain": [
       "[2, 3, 17, 487, 97, 53, 47, 43, 31]"
      ]
     },
     "execution_count": 3,
     "metadata": {},
     "output_type": "execute_result"
    }
   ],
   "source": [
    "list = [2,3,56,17,42,487,58,97,53,56,417,65,435,25,685,47,275,43,31]\n",
    "lista_numeros_primos(list)"
   ]
  },
  {
   "attachments": {},
   "cell_type": "markdown",
   "metadata": {},
   "source": [
    "3) Crear una función que al recibir una lista de números, devuelva el que más se repite y cuántas veces lo hace. Si hay más de un \"más repetido\", que devuelva cualquiera"
   ]
  },
  {
   "cell_type": "code",
   "execution_count": 25,
   "metadata": {},
   "outputs": [],
   "source": [
    "def contar(lista): #creando la funcion\n",
    "  result = {} # creamos un diccionario donde pondremos los valores sin repetir y la mcantidad de veces se repite\n",
    "  for i in lista: #analizamos todos los elementos de la lista\n",
    "    if i not in result: #se an aliza cada elemento del diccionario, si esta o no esta dentro\n",
    "      result[i] = 0    # Si \"NO\" está, se agrega al diccionario el valor como clave y su numero de repeticiones como valor (e,h)\n",
    "    result[i] += 1      # si ya está en el diccionario, se sumara a su valor +1 que es el numero de repeticiones que se encuentran en la lista dada\n",
    "  print(result.keys()) # Imprimimos las claves del diccionario, lo cuales son los elelentos de la lista dada sin repeticiones\n",
    "  \n",
    "  #leyendo las claves y valores del diccionario\n",
    "  n = 0 # creamos un variable para almacenar el mayor de los valores\n",
    "  m = 0 # Creamos una variable donde almacenaremos la clave del mayor valor\n",
    "  for e, h in result.items(): # Hacemos un for para analizar todas las claves y valores del diccionario\n",
    "    if h > n: # una condicional para decir si n es mayor al item valor analizaro entonces no me combien n\n",
    "      n = h # Cambiando n si y solo si h es mayor\n",
    "      m = e # cambiando m con el key e si y solo si n es mayor que h\n",
    "\n",
    "  print('El numero',m,'es el numero que mas se ha repetido, repitiendose',n,'veces') #imprimimos el numero que se repitio mas"
   ]
  },
  {
   "cell_type": "code",
   "execution_count": 27,
   "metadata": {},
   "outputs": [
    {
     "name": "stdout",
     "output_type": "stream",
     "text": [
      "dict_keys([1, 22, 2, 3, 6, 5, 4, 8, 9, 7, 23, 25, 28, 14, 15, 18, 89, 56, 35, 74, 58, 26, 36, 95, 39])\n",
      "El numero 5 es el numero que mas se ha repetido, repitiendose 32 veces\n"
     ]
    }
   ],
   "source": [
    "#Damos una lista y llamamos a la funcion contar\n",
    "lista = [1,1,1,22,2,2,2,2,2,2,2,2,3,6,5,4,5,6,5,8,9,6,7,8,9,5,5,5,5,5,5,5,5,5,5,5,5,5,5,5,5,5,5,5,5,5,5,5,5,5,5,5,5,5,4,6,23,22,25,28,1,14,15,18,89,56,35,74,58,26,15,36,95,39]\n",
    "contar(lista)"
   ]
  },
  {
   "cell_type": "code",
   "execution_count": 36,
   "metadata": {},
   "outputs": [],
   "source": [
    "def cuenta(lista):\n",
    "    lista_s_rep = []\n",
    "    repeticiones = []\n",
    "    for i in lista:\n",
    "        if i in lista_s_rep:\n",
    "            n = lista_s_rep.index(i)\n",
    "            repeticiones[n] +=1\n",
    "        else:\n",
    "            lista_s_rep.append(i)\n",
    "            repeticiones.append(1)\n",
    "    print(lista_s_rep)\n",
    "    print(repeticiones)\n",
    "\n",
    "    k=0\n",
    "    for m in repeticiones:\n",
    "        if m > k:\n",
    "            k = m\n",
    "\n",
    "    print('El numero',lista_s_rep[repeticiones.index(k)],'es el numero que mas se ha repetido, repitiendose',k,'veces') "
   ]
  },
  {
   "cell_type": "code",
   "execution_count": 37,
   "metadata": {},
   "outputs": [
    {
     "name": "stdout",
     "output_type": "stream",
     "text": [
      "[1, 22, 2, 3, 6, 5, 4, 8, 9, 7, 23, 25, 28, 14, 15, 18, 89, 56, 35, 74, 58, 26, 36, 95, 39]\n",
      "[4, 2, 8, 1, 4, 32, 2, 2, 2, 1, 1, 1, 1, 1, 2, 1, 1, 1, 1, 1, 1, 1, 1, 1, 1]\n",
      "El numero 5 es el numero que mas se ha repetido, repitiendose 32 veces\n"
     ]
    }
   ],
   "source": [
    "#Damos una lista y llamamos a la funcion contar\n",
    "lista = [1,1,1,22,2,2,2,2,2,2,2,2,3,6,5,4,5,6,5,8,9,6,7,8,9,5,5,5,5,5,5,5,5,5,5,5,5,5,5,5,5,5,5,5,5,5,5,5,5,5,5,5,5,5,4,6,23,22,25,28,1,14,15,18,89,56,35,74,58,26,15,36,95,39]\n",
    "cuenta(lista)"
   ]
  },
  {
   "attachments": {},
   "cell_type": "markdown",
   "metadata": {},
   "source": [
    "4) Crear una función que convierta entre grados Celsius, Farenheit y Kelvin<br>\n",
    "Fórmula 1\t: (°C × 9/5) + 32 = °F<br>\n",
    "Fórmula 2\t: °C + 273.15 = °K<br>\n",
    "Debe recibir 3 parámetros: el valor, la medida de orígen y la medida de destino\n"
   ]
  },
  {
   "cell_type": "code",
   "execution_count": 2,
   "metadata": {},
   "outputs": [],
   "source": [
    "def termometro(valor, grados_origen, grados_destino):\n",
    "    grados_origen = grados_origen.upper()\n",
    "    grados_destino = grados_destino.upper()\n",
    "\n",
    "    if grados_origen == grados_destino:\n",
    "        print(valor)\n",
    "    elif grados_origen == 'C' and grados_destino == 'F':\n",
    "        print(float(valor),'°C Celsius es igual a',(valor*9/5)+32,'°F grados FarenHeith')#\n",
    "    elif grados_origen == 'C' and grados_destino == 'K':\n",
    "        print(float(valor),'°C Celsius es igual a',(valor+273.15),'°K grados Kelvin')#\n",
    "    elif grados_origen == 'K' and grados_destino == 'C':\n",
    "        print(float(valor), '°K Kelvin es igual a',(valor-273.15),'°C grados Celsius')#\n",
    "    elif grados_origen == 'K' and grados_destino == 'F':\n",
    "        print(float(valor), '°K Kelvin es igual a',((valor-273.15)*9/5)+32,'°F grados FarenHeith')#\n",
    "    elif grados_origen == 'F' and grados_destino == 'C':\n",
    "        print(float(valor), '°F FarenHeith es igual a',(valor-32)*5/9,'°C grados Celsius')#\n",
    "    elif grados_origen == 'F' and grados_destino == 'K':\n",
    "        print(float(valor), '°F FarenHeith es igual a',((valor-32)*5/9)+273.15,'°K grados Kelvin')"
   ]
  },
  {
   "cell_type": "code",
   "execution_count": 9,
   "metadata": {},
   "outputs": [
    {
     "name": "stdout",
     "output_type": "stream",
     "text": [
      "30.0 °C Celsius es igual a 86.0 °F grados FarenHeith\n",
      "30.0 °F FarenHeith es igual a 272.0388888888889 °K grados Kelvin\n",
      "30.0 °K Kelvin es igual a -243.14999999999998 °C grados Celsius\n",
      "30.0 °K Kelvin es igual a -405.66999999999996 °F grados FarenHeith\n",
      "30.0 °C Celsius es igual a 303.15 °K grados Kelvin\n",
      "30.0 °F FarenHeith es igual a -1.1111111111111112 °C grados Celsius\n"
     ]
    }
   ],
   "source": [
    "\"\"\"termometro(30,'c','F')\n",
    "termometro(86,'f','k')\n",
    "termometro(303.15,'k','C')\n",
    "termometro(303.15,'k','F')\n",
    "termometro(30,'c','k')\n",
    "termometro(86,'f','c')\"\"\"\n",
    "\n",
    "termometro(30,'c','F')\n",
    "termometro(30,'f','k')\n",
    "termometro(30,'k','C')\n",
    "termometro(30,'k','F')\n",
    "termometro(30,'c','k')\n",
    "termometro(30,'f','c')"
   ]
  },
  {
   "attachments": {},
   "cell_type": "markdown",
   "metadata": {},
   "source": [
    "5) Iterando una lista con los tres valores posibles de temperatura que recibe la función del punto 5, hacer un print para cada combinación de los mismos:"
   ]
  },
  {
   "cell_type": "code",
   "execution_count": 8,
   "metadata": {},
   "outputs": [
    {
     "name": "stdout",
     "output_type": "stream",
     "text": [
      "30.0 °C Celsius es igual a 86.0 °F grados FarenHeith\n",
      "30.0 °C Celsius es igual a 303.15 °K grados Kelvin\n",
      "30.0 °F FarenHeith es igual a -1.1111111111111112 °C grados Celsius\n",
      "30.0 °F FarenHeith es igual a 272.0388888888889 °K grados Kelvin\n",
      "30.0 °K Kelvin es igual a -243.14999999999998 °C grados Celsius\n",
      "30.0 °K Kelvin es igual a -405.66999999999996 °F grados FarenHeith\n"
     ]
    }
   ],
   "source": [
    "valores = ['C','F','K']\n",
    "for i in valores:\n",
    "    for j in valores:\n",
    "        if i == j:\n",
    "            pass\n",
    "        else:\n",
    "            termometro(30,i,j)"
   ]
  },
  {
   "attachments": {},
   "cell_type": "markdown",
   "metadata": {},
   "source": [
    "6) Armar una función que devuelva el factorial de un número. Tener en cuenta que el usuario puede equivocarse y enviar de parámetro un número no entero o negativo"
   ]
  },
  {
   "cell_type": "code",
   "execution_count": 62,
   "metadata": {},
   "outputs": [],
   "source": [
    "def factoriale(num):\n",
    "    if (type(num) != int):\n",
    "        print('Verifica el numero que pusiste, solo se admiten enteros')\n",
    "    elif num < 0:\n",
    "        print('Pusiste un numero negativo, solo se admiten enteros')    \n",
    "    elif num <= 1:\n",
    "        print(1)\n",
    "    else:        \n",
    "        # Realizando el Factorial\n",
    "        n=1\n",
    "        for i in range(num):\n",
    "            n*=(i+1)\n",
    "        print(n)"
   ]
  },
  {
   "cell_type": "code",
   "execution_count": 69,
   "metadata": {},
   "outputs": [
    {
     "name": "stdout",
     "output_type": "stream",
     "text": [
      "Verifica el numero que pusiste, solo se admiten enteros\n"
     ]
    }
   ],
   "source": [
    "factoriale(2.3)"
   ]
  }
 ],
 "metadata": {
  "interpreter": {
   "hash": "c85384e4cb51c8b72350f3a8712cc8351fdc3955e32a27f9b60c6242ab125f01"
  },
  "kernelspec": {
   "display_name": "Python 3 (ipykernel)",
   "language": "python",
   "name": "python3"
  },
  "language_info": {
   "codemirror_mode": {
    "name": "ipython",
    "version": 3
   },
   "file_extension": ".py",
   "mimetype": "text/x-python",
   "name": "python",
   "nbconvert_exporter": "python",
   "pygments_lexer": "ipython3",
   "version": "3.10.4"
  }
 },
 "nbformat": 4,
 "nbformat_minor": 4
}
