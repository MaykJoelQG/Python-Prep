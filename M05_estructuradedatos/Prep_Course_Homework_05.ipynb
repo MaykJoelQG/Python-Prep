{
 "cells": [
  {
   "attachments": {},
   "cell_type": "markdown",
   "metadata": {},
   "source": [
    "## Estructuras de Datos"
   ]
  },
  {
   "attachments": {},
   "cell_type": "markdown",
   "metadata": {},
   "source": [
    "1) Crear una lista que contenga nombres de ciudades del mundo que contenga más de 5 elementos e imprimir por pantalla"
   ]
  },
  {
   "cell_type": "code",
   "execution_count": 29,
   "metadata": {},
   "outputs": [
    {
     "name": "stdout",
     "output_type": "stream",
     "text": [
      "['Lima', 'Ayacucho', 'Amazonas', 'Iquitos', 'Puerto Maldonado', 'Puno', 'Huanuco']\n"
     ]
    }
   ],
   "source": [
    "mi_lista=[\"Lima\",\"Ayacucho\",\"Amazonas\",\"Iquitos\",\"Puerto Maldonado\",\"Puno\",\"Huanuco\"]\n",
    "print(mi_lista)"
   ]
  },
  {
   "attachments": {},
   "cell_type": "markdown",
   "metadata": {},
   "source": [
    "2) Imprimir por pantalla el segundo elemento de la lista"
   ]
  },
  {
   "cell_type": "code",
   "execution_count": 30,
   "metadata": {},
   "outputs": [
    {
     "name": "stdout",
     "output_type": "stream",
     "text": [
      "Ayacucho\n"
     ]
    }
   ],
   "source": [
    "print(mi_lista[1])"
   ]
  },
  {
   "attachments": {},
   "cell_type": "markdown",
   "metadata": {},
   "source": [
    "3) Imprimir por pantalla del segundo al cuarto elemento"
   ]
  },
  {
   "cell_type": "code",
   "execution_count": 31,
   "metadata": {},
   "outputs": [
    {
     "name": "stdout",
     "output_type": "stream",
     "text": [
      "['Ayacucho', 'Amazonas', 'Iquitos']\n"
     ]
    }
   ],
   "source": [
    "print(mi_lista[1:4])"
   ]
  },
  {
   "attachments": {},
   "cell_type": "markdown",
   "metadata": {},
   "source": [
    "4) Visualizar el tipo de dato de la lista"
   ]
  },
  {
   "cell_type": "code",
   "execution_count": 32,
   "metadata": {},
   "outputs": [
    {
     "name": "stdout",
     "output_type": "stream",
     "text": [
      "<class 'list'>\n"
     ]
    }
   ],
   "source": [
    "print(type(mi_lista))"
   ]
  },
  {
   "attachments": {},
   "cell_type": "markdown",
   "metadata": {},
   "source": [
    "5) Visualizar todos los elementos de la lista a partir del tercero de manera genérica, es decir, sin explicitar la posición del último elemento"
   ]
  },
  {
   "cell_type": "code",
   "execution_count": 33,
   "metadata": {},
   "outputs": [
    {
     "name": "stdout",
     "output_type": "stream",
     "text": [
      "['Amazonas', 'Iquitos', 'Puerto Maldonado', 'Puno', 'Huanuco']\n"
     ]
    }
   ],
   "source": [
    "print(mi_lista[2:])"
   ]
  },
  {
   "attachments": {},
   "cell_type": "markdown",
   "metadata": {},
   "source": [
    "6) Visualizar los primeros 4 elementos de la lista"
   ]
  },
  {
   "cell_type": "code",
   "execution_count": 34,
   "metadata": {},
   "outputs": [
    {
     "name": "stdout",
     "output_type": "stream",
     "text": [
      "['Lima', 'Ayacucho', 'Amazonas', 'Iquitos']\n"
     ]
    }
   ],
   "source": [
    "print(mi_lista[:4])"
   ]
  },
  {
   "attachments": {},
   "cell_type": "markdown",
   "metadata": {},
   "source": [
    "7) Agregar una ciudad más a la lista que ya exista y otra que no ¿Arroja algún tipo de error?"
   ]
  },
  {
   "cell_type": "code",
   "execution_count": 35,
   "metadata": {},
   "outputs": [
    {
     "name": "stdout",
     "output_type": "stream",
     "text": [
      "['Lima', 'Ayacucho', 'Amazonas', 'Iquitos', 'Puerto Maldonado', 'Puno', 'Huanuco', 'Lima']\n"
     ]
    }
   ],
   "source": [
    "mi_lista.append(\"Lima\") #No ocaciona ningun error sino se aumenta como un valor mas\n",
    "print(mi_lista)"
   ]
  },
  {
   "cell_type": "code",
   "execution_count": 36,
   "metadata": {},
   "outputs": [
    {
     "name": "stdout",
     "output_type": "stream",
     "text": [
      "['Lima', 'Ayacucho', 'Amazonas', 'Iquitos', 'Puerto Maldonado', 'Puno', 'Huanuco', 'Lima', 2]\n"
     ]
    }
   ],
   "source": [
    "mi_lista.append(2)\n",
    "print(mi_lista)"
   ]
  },
  {
   "attachments": {},
   "cell_type": "markdown",
   "metadata": {},
   "source": [
    "8) Agregar otra ciudad, pero en la cuarta posición"
   ]
  },
  {
   "cell_type": "code",
   "execution_count": 37,
   "metadata": {},
   "outputs": [
    {
     "name": "stdout",
     "output_type": "stream",
     "text": [
      "['Lima', 'Ayacucho', 'Amazonas', 'Piura', 'Iquitos', 'Puerto Maldonado', 'Puno', 'Huanuco', 'Lima', 2]\n"
     ]
    }
   ],
   "source": [
    "mi_lista.insert(3,\"Piura\")\n",
    "print(mi_lista)"
   ]
  },
  {
   "attachments": {},
   "cell_type": "markdown",
   "metadata": {},
   "source": [
    "9) Concatenar otra lista a la ya creada"
   ]
  },
  {
   "cell_type": "code",
   "execution_count": 38,
   "metadata": {},
   "outputs": [
    {
     "name": "stdout",
     "output_type": "stream",
     "text": [
      "['Lima', 'Ayacucho', 'Amazonas', 'Piura', 'Iquitos', 'Puerto Maldonado', 'Puno', 'Huanuco', 'Lima', 2, 1, 4, 5]\n"
     ]
    }
   ],
   "source": [
    "mi_lista.extend([1,4,5])\n",
    "print(mi_lista)"
   ]
  },
  {
   "cell_type": "code",
   "execution_count": 39,
   "metadata": {},
   "outputs": [
    {
     "name": "stdout",
     "output_type": "stream",
     "text": [
      "['Lima', 'Ayacucho', 'Amazonas', 'Piura', 'Iquitos', 'Puerto Maldonado', 'Puno', 'Huanuco', 'Lima', 2, 1, 4, 5, 'Cajamarca', 'Cusco', 'Arequipa']\n"
     ]
    }
   ],
   "source": [
    "nueva_lista=[\"Cajamarca\",\"Cusco\",\"Arequipa\"]\n",
    "mi_lista.extend(nueva_lista) # Concatenando la lista nueva a mi_lista\n",
    "print(mi_lista)"
   ]
  },
  {
   "attachments": {},
   "cell_type": "markdown",
   "metadata": {},
   "source": [
    "10) Encontrar el índice de la ciudad que en el punto 7 agregamos duplicada. ¿Se nota alguna particularidad?"
   ]
  },
  {
   "cell_type": "code",
   "execution_count": 42,
   "metadata": {},
   "outputs": [
    {
     "data": {
      "text/plain": [
       "0"
      ]
     },
     "execution_count": 42,
     "metadata": {},
     "output_type": "execute_result"
    }
   ],
   "source": [
    "mi_lista.index(\"Lima\") # la particularidad es q si existen 2 valores con el mismo valor, \n",
    "                       # python imprime el primer elemento encontrado."
   ]
  },
  {
   "attachments": {},
   "cell_type": "markdown",
   "metadata": {},
   "source": [
    "11) ¿Qué pasa si se busca un elemento que no existe?"
   ]
  },
  {
   "cell_type": "code",
   "execution_count": 43,
   "metadata": {},
   "outputs": [
    {
     "ename": "ValueError",
     "evalue": "'Barranco' is not in list",
     "output_type": "error",
     "traceback": [
      "\u001b[1;31m---------------------------------------------------------------------------\u001b[0m",
      "\u001b[1;31mValueError\u001b[0m                                Traceback (most recent call last)",
      "Cell \u001b[1;32mIn[43], line 1\u001b[0m\n\u001b[1;32m----> 1\u001b[0m mi_lista\u001b[39m.\u001b[39;49mindex(\u001b[39m\"\u001b[39;49m\u001b[39mBarranco\u001b[39;49m\u001b[39m\"\u001b[39;49m)\n",
      "\u001b[1;31mValueError\u001b[0m: 'Barranco' is not in list"
     ]
    }
   ],
   "source": [
    "mi_lista.index(\"Barranco\") # Al no encontrar un elemento en una lista sale el ValueError, \n",
    "                           # que no esta deficnido en la lista"
   ]
  },
  {
   "attachments": {},
   "cell_type": "markdown",
   "metadata": {},
   "source": [
    "12) Eliminar un elemento de la lista"
   ]
  },
  {
   "cell_type": "code",
   "execution_count": 44,
   "metadata": {},
   "outputs": [
    {
     "name": "stdout",
     "output_type": "stream",
     "text": [
      "['Ayacucho', 'Amazonas', 'Piura', 'Iquitos', 'Puerto Maldonado', 'Puno', 'Huanuco', 'Lima', 2, 1, 4, 5, 'Cajamarca', 'Cusco', 'Arequipa']\n"
     ]
    }
   ],
   "source": [
    "mi_lista.remove(\"Lima\")# Se elimino el pirmer elemento \"lima\" encontrado\n",
    "print(mi_lista)"
   ]
  },
  {
   "attachments": {},
   "cell_type": "markdown",
   "metadata": {},
   "source": [
    "13) ¿Qué pasa si el elemento a eliminar no existe?"
   ]
  },
  {
   "cell_type": "code",
   "execution_count": 45,
   "metadata": {},
   "outputs": [
    {
     "ename": "ValueError",
     "evalue": "list.remove(x): x not in list",
     "output_type": "error",
     "traceback": [
      "\u001b[1;31m---------------------------------------------------------------------------\u001b[0m",
      "\u001b[1;31mValueError\u001b[0m                                Traceback (most recent call last)",
      "Cell \u001b[1;32mIn[45], line 1\u001b[0m\n\u001b[1;32m----> 1\u001b[0m mi_lista\u001b[39m.\u001b[39;49mremove(\u001b[39m\"\u001b[39;49m\u001b[39mBarranco\u001b[39;49m\u001b[39m\"\u001b[39;49m)\u001b[39m# Se elimino el pirmer elemento \"lima\" encontrado\u001b[39;00m\n\u001b[0;32m      2\u001b[0m \u001b[39mprint\u001b[39m(mi_lista)\n",
      "\u001b[1;31mValueError\u001b[0m: list.remove(x): x not in list"
     ]
    }
   ],
   "source": [
    "mi_lista.remove(\"Barranco\")# sale error por q no pertenece el elemento buscado a eliminar a la lista\n",
    "print(mi_lista)"
   ]
  },
  {
   "attachments": {},
   "cell_type": "markdown",
   "metadata": {},
   "source": [
    "14) Extraer el úlimo elemento de la lista, guardarlo en una variable e imprimirlo"
   ]
  },
  {
   "cell_type": "code",
   "execution_count": 48,
   "metadata": {},
   "outputs": [
    {
     "name": "stdout",
     "output_type": "stream",
     "text": [
      "Arequipa\n"
     ]
    }
   ],
   "source": [
    "nueva_variable=mi_lista.pop()\n",
    "print(nueva_variable)"
   ]
  },
  {
   "attachments": {},
   "cell_type": "markdown",
   "metadata": {},
   "source": [
    "15) Mostrar la lista multiplicada por 4"
   ]
  },
  {
   "cell_type": "code",
   "execution_count": 49,
   "metadata": {},
   "outputs": [
    {
     "name": "stdout",
     "output_type": "stream",
     "text": [
      "['Ayacucho', 'Amazonas', 'Piura', 'Iquitos', 'Puerto Maldonado', 'Puno', 'Huanuco', 'Lima', 2, 1, 4, 5, 'Cajamarca', 'Cusco', 'Ayacucho', 'Amazonas', 'Piura', 'Iquitos', 'Puerto Maldonado', 'Puno', 'Huanuco', 'Lima', 2, 1, 4, 5, 'Cajamarca', 'Cusco', 'Ayacucho', 'Amazonas', 'Piura', 'Iquitos', 'Puerto Maldonado', 'Puno', 'Huanuco', 'Lima', 2, 1, 4, 5, 'Cajamarca', 'Cusco', 'Ayacucho', 'Amazonas', 'Piura', 'Iquitos', 'Puerto Maldonado', 'Puno', 'Huanuco', 'Lima', 2, 1, 4, 5, 'Cajamarca', 'Cusco']\n"
     ]
    }
   ],
   "source": [
    "nueva_lista_mult=mi_lista*4\n",
    "print(nueva_lista_mult)"
   ]
  },
  {
   "attachments": {},
   "cell_type": "markdown",
   "metadata": {},
   "source": [
    "16) Crear una tupla que contenga los números enteros del 1 al 20"
   ]
  },
  {
   "cell_type": "code",
   "execution_count": 50,
   "metadata": {},
   "outputs": [],
   "source": [
    "mi_tupla=(1,2,3,4,5,6,7,8,9,10,11,12,13,14,15,16,17,18,19,20)"
   ]
  },
  {
   "attachments": {},
   "cell_type": "markdown",
   "metadata": {},
   "source": [
    "17) Imprimir desde el índice 10 al 15 de la tupla"
   ]
  },
  {
   "cell_type": "code",
   "execution_count": 51,
   "metadata": {},
   "outputs": [
    {
     "name": "stdout",
     "output_type": "stream",
     "text": [
      "(11, 12, 13, 14, 15)\n"
     ]
    }
   ],
   "source": [
    "print(mi_tupla[10:15])"
   ]
  },
  {
   "attachments": {},
   "cell_type": "markdown",
   "metadata": {},
   "source": [
    "18) Evaluar si los números 20 y 30 están dentro de la tupla"
   ]
  },
  {
   "cell_type": "code",
   "execution_count": 52,
   "metadata": {},
   "outputs": [
    {
     "data": {
      "text/plain": [
       "True"
      ]
     },
     "execution_count": 52,
     "metadata": {},
     "output_type": "execute_result"
    }
   ],
   "source": [
    "20 in mi_tupla"
   ]
  },
  {
   "cell_type": "code",
   "execution_count": 53,
   "metadata": {},
   "outputs": [
    {
     "data": {
      "text/plain": [
       "False"
      ]
     },
     "execution_count": 53,
     "metadata": {},
     "output_type": "execute_result"
    }
   ],
   "source": [
    "30 in mi_tupla"
   ]
  },
  {
   "cell_type": "code",
   "execution_count": 54,
   "metadata": {},
   "outputs": [
    {
     "data": {
      "text/plain": [
       "True"
      ]
     },
     "execution_count": 54,
     "metadata": {},
     "output_type": "execute_result"
    }
   ],
   "source": [
    "15 and 20 in mi_tupla"
   ]
  },
  {
   "attachments": {},
   "cell_type": "markdown",
   "metadata": {},
   "source": [
    "19) Con la lista creada en el punto 1, validar la existencia del elemento 'París' y si no existe, agregarlo. Utilizar una variable e informar lo sucedido."
   ]
  },
  {
   "cell_type": "code",
   "execution_count": 55,
   "metadata": {},
   "outputs": [
    {
     "data": {
      "text/plain": [
       "False"
      ]
     },
     "execution_count": 55,
     "metadata": {},
     "output_type": "execute_result"
    }
   ],
   "source": [
    "\"Paris\" in mi_lista"
   ]
  },
  {
   "cell_type": "code",
   "execution_count": 58,
   "metadata": {},
   "outputs": [
    {
     "name": "stdout",
     "output_type": "stream",
     "text": [
      "El elemento Paris ha sido agregado al final de la lista\n",
      "['Ayacucho', 'Amazonas', 'Piura', 'Iquitos', 'Puerto Maldonado', 'Puno', 'Huanuco', 'Lima', 2, 1, 4, 5, 'Cajamarca', 'Cusco', 'Paris']\n"
     ]
    }
   ],
   "source": [
    "elemento=\"Paris\"\n",
    "if elemento in mi_lista:\n",
    "    print(\"El elemento\",elemento,\"ya existe y no fue agregado\")\n",
    "else:\n",
    "    mi_lista.append(elemento)\n",
    "    print(\"El elemento\",elemento,\"ha sido agregado al final de la lista\")\n",
    "    print(mi_lista)\n"
   ]
  },
  {
   "attachments": {},
   "cell_type": "markdown",
   "metadata": {},
   "source": [
    "20) Mostrar la cantidad de veces que se encuentra un elemento específico dentro de la tupla y de la lista"
   ]
  },
  {
   "cell_type": "code",
   "execution_count": 59,
   "metadata": {},
   "outputs": [],
   "source": [
    "mi_lista.append(elemento)"
   ]
  },
  {
   "cell_type": "code",
   "execution_count": 62,
   "metadata": {},
   "outputs": [
    {
     "name": "stdout",
     "output_type": "stream",
     "text": [
      "['Ayacucho', 'Amazonas', 'Piura', 'Iquitos', 'Puerto Maldonado', 'Puno', 'Huanuco', 'Lima', 2, 1, 4, 5, 'Cajamarca', 'Cusco', 'Paris', 'Paris']\n"
     ]
    }
   ],
   "source": [
    "print(mi_lista)"
   ]
  },
  {
   "cell_type": "code",
   "execution_count": 61,
   "metadata": {},
   "outputs": [
    {
     "name": "stdout",
     "output_type": "stream",
     "text": [
      "2\n",
      "1\n"
     ]
    }
   ],
   "source": [
    "print(mi_lista.count(\"Paris\"))\n",
    "print(mi_lista.count(\"Lima\"))"
   ]
  },
  {
   "attachments": {},
   "cell_type": "markdown",
   "metadata": {},
   "source": [
    "21) Convertir la tupla en una lista"
   ]
  },
  {
   "cell_type": "code",
   "execution_count": 63,
   "metadata": {},
   "outputs": [
    {
     "name": "stdout",
     "output_type": "stream",
     "text": [
      "[1, 2, 3, 4, 5, 6, 7, 8, 9, 10, 11, 12, 13, 14, 15, 16, 17, 18, 19, 20]\n"
     ]
    }
   ],
   "source": [
    "tu_lista=list(mi_tupla)\n",
    "print(tu_lista)"
   ]
  },
  {
   "attachments": {},
   "cell_type": "markdown",
   "metadata": {},
   "source": [
    "22) Desempaquetar solo los primeros 3 elementos de la tupla en 3 variables"
   ]
  },
  {
   "cell_type": "code",
   "execution_count": 65,
   "metadata": {},
   "outputs": [
    {
     "name": "stdout",
     "output_type": "stream",
     "text": [
      "1 2 3\n"
     ]
    }
   ],
   "source": [
    "var1,var2,var3,_,_,_,_,_,_,_,_,_,_,_,_,_,_,_,_,_=mi_tupla\n",
    "print(var1,var2,var3)\n"
   ]
  },
  {
   "cell_type": "code",
   "execution_count": 68,
   "metadata": {},
   "outputs": [
    {
     "name": "stdout",
     "output_type": "stream",
     "text": [
      "1 2 3\n"
     ]
    }
   ],
   "source": [
    "primero=mi_tupla[0] \n",
    "segundo=mi_tupla[1]\n",
    "tercero=mi_tupla[2]\n",
    "print(primero,segundo,tercero)"
   ]
  },
  {
   "attachments": {},
   "cell_type": "markdown",
   "metadata": {},
   "source": [
    "23) Crear un diccionario utilizando la lista crada en el punto 1, asignandole la clave \"ciudad\". Agregar tambien otras claves, como puede ser \"Pais\" y \"Continente\"."
   ]
  },
  {
   "cell_type": "code",
   "execution_count": 70,
   "metadata": {},
   "outputs": [
    {
     "name": "stdout",
     "output_type": "stream",
     "text": [
      "{'ciudad': 'Ayacucho', 'pais': 'Amazonas', 'continente': 'Piura', 'distrito': 'Iquitos', 'departamento': 'Puerto Maldonado', 'planeta': 'Puno', 'urbanizacion': 'Huanuco', 'hacentamiento': 'Lima', 'clave9': 2, 'clave10': 1, 'clave11': 4, 'clave12': 5, 'clave13': 'Cajamarca', 'clave14': 'Cusco', 'clave15': 'Paris', 'clave16': 'Paris'}\n"
     ]
    }
   ],
   "source": [
    "lista_para_diccionario=mi_lista\n",
    "mi_diccionario={\"ciudad\":lista_para_diccionario[0],\"pais\":lista_para_diccionario[1],\n",
    "                \"continente\":lista_para_diccionario[2],\"distrito\":lista_para_diccionario[3],\n",
    "                \"departamento\":lista_para_diccionario[4],\"planeta\":lista_para_diccionario[5],\n",
    "                \"urbanizacion\":lista_para_diccionario[6],\"hacentamiento\":lista_para_diccionario[7],\n",
    "                \"clave9\":lista_para_diccionario[8],\"clave10\":lista_para_diccionario[9],\n",
    "                \"clave11\":lista_para_diccionario[10],\"clave12\":lista_para_diccionario[11],\n",
    "                \"clave13\":lista_para_diccionario[12],\"clave14\":lista_para_diccionario[13],\n",
    "                \"clave15\":lista_para_diccionario[14],\"clave16\":lista_para_diccionario[15]}\n",
    "\n",
    "print(mi_diccionario)"
   ]
  },
  {
   "cell_type": "code",
   "execution_count": 74,
   "metadata": {},
   "outputs": [
    {
     "name": "stdout",
     "output_type": "stream",
     "text": [
      "{'ciudad': ['Ayacucho', 'Amazonas', 'Piura', 'Iquitos', 'Puerto Maldonado', 'Puno', 'Huanuco', 'Lima', 2, 1, 4, 5, 'Cajamarca', 'Cusco', 'Paris', 'Paris'], 'pais': (1, 2, 3, 4, 5, 6, 7, 8, 9, 10, 11, 12, 13, 14, 15, 16, 17, 18, 19, 20), 'continente': ['Asia', 'Europa', 'Oceania', 'Africa', 'America'], 'distrito': ['Barranco', 'Jesus Maria', 'Lince', 'Callao', 'Villa Maria']}\n"
     ]
    }
   ],
   "source": [
    "mi_diccionario2={\"ciudad\":mi_lista,\"pais\":mi_tupla,\n",
    "                \"continente\":[\"Asia\",\"Europa\",\"Oceania\",\"Africa\",\"America\"],\n",
    "                \"distrito\":[\"Barranco\",\"Jesus Maria\",\"Lince\",\"Callao\",\"Villa Maria\"]}\n",
    "\n",
    "print(mi_diccionario2)"
   ]
  },
  {
   "attachments": {},
   "cell_type": "markdown",
   "metadata": {},
   "source": [
    "24) Imprimir las claves del diccionario"
   ]
  },
  {
   "cell_type": "code",
   "execution_count": 75,
   "metadata": {},
   "outputs": [
    {
     "name": "stdout",
     "output_type": "stream",
     "text": [
      "dict_keys(['ciudad', 'pais', 'continente', 'distrito'])\n"
     ]
    }
   ],
   "source": [
    "print(mi_diccionario2.keys())"
   ]
  },
  {
   "attachments": {},
   "cell_type": "markdown",
   "metadata": {},
   "source": [
    "25) Imprimir las ciudades a través de su clave"
   ]
  },
  {
   "cell_type": "code",
   "execution_count": 76,
   "metadata": {},
   "outputs": [
    {
     "name": "stdout",
     "output_type": "stream",
     "text": [
      "dict_values([['Ayacucho', 'Amazonas', 'Piura', 'Iquitos', 'Puerto Maldonado', 'Puno', 'Huanuco', 'Lima', 2, 1, 4, 5, 'Cajamarca', 'Cusco', 'Paris', 'Paris'], (1, 2, 3, 4, 5, 6, 7, 8, 9, 10, 11, 12, 13, 14, 15, 16, 17, 18, 19, 20), ['Asia', 'Europa', 'Oceania', 'Africa', 'America'], ['Barranco', 'Jesus Maria', 'Lince', 'Callao', 'Villa Maria']])\n"
     ]
    }
   ],
   "source": [
    "print(mi_diccionario2.values())"
   ]
  }
 ],
 "metadata": {
  "interpreter": {
   "hash": "c85384e4cb51c8b72350f3a8712cc8351fdc3955e32a27f9b60c6242ab125f01"
  },
  "kernelspec": {
   "display_name": "Python 3 (ipykernel)",
   "language": "python",
   "name": "python3"
  },
  "language_info": {
   "codemirror_mode": {
    "name": "ipython",
    "version": 3
   },
   "file_extension": ".py",
   "mimetype": "text/x-python",
   "name": "python",
   "nbconvert_exporter": "python",
   "pygments_lexer": "ipython3",
   "version": "3.11.4"
  }
 },
 "nbformat": 4,
 "nbformat_minor": 4
}
