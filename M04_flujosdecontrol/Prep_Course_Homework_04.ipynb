{
 "cells": [
  {
   "attachments": {},
   "cell_type": "markdown",
   "metadata": {},
   "source": [
    "## Flujos de Control"
   ]
  },
  {
   "attachments": {},
   "cell_type": "markdown",
   "metadata": {},
   "source": [
    "1) Crear una variable que contenga un elemento del conjunto de números enteros y luego imprimir por pantalla si es mayor o menor a cero"
   ]
  },
  {
   "cell_type": "code",
   "execution_count": 35,
   "metadata": {},
   "outputs": [
    {
     "name": "stdout",
     "output_type": "stream",
     "text": [
      "x es mayor que 0\n"
     ]
    }
   ],
   "source": [
    "x=10\n",
    "if x>0:\n",
    "    print(\"x es mayor que 0\")\n",
    "elif x==0:\n",
    "    print(\"\")\n",
    "else:\n",
    "    print(\"x es menor que 0\")"
   ]
  },
  {
   "attachments": {},
   "cell_type": "markdown",
   "metadata": {},
   "source": [
    "2) Crear dos variables y un condicional que informe si son del mismo tipo de dato"
   ]
  },
  {
   "cell_type": "code",
   "execution_count": 36,
   "metadata": {},
   "outputs": [
    {
     "name": "stdout",
     "output_type": "stream",
     "text": [
      "No son el mismo tipo de dato\n"
     ]
    }
   ],
   "source": [
    "a=10\n",
    "b='20'\n",
    "if type(a)==type(b):\n",
    "    print(\"Son el mismo tipo de dato\")\n",
    "else:\n",
    "    print(\"No son el mismo tipo de dato\")"
   ]
  },
  {
   "attachments": {},
   "cell_type": "markdown",
   "metadata": {},
   "source": [
    "3) Para los valores enteros del 1 al 20, imprimir por pantalla si es par o impar"
   ]
  },
  {
   "cell_type": "code",
   "execution_count": 7,
   "metadata": {},
   "outputs": [
    {
     "name": "stdout",
     "output_type": "stream",
     "text": [
      "El numero 1 es impar\n",
      "El numero 2 es par\n",
      "El numero 3 es impar\n",
      "El numero 4 es par\n",
      "El numero 5 es impar\n",
      "El numero 6 es par\n",
      "El numero 7 es impar\n",
      "El numero 8 es par\n",
      "El numero 9 es impar\n",
      "El numero 10 es par\n",
      "El numero 11 es impar\n",
      "El numero 12 es par\n",
      "El numero 13 es impar\n",
      "El numero 14 es par\n",
      "El numero 15 es impar\n",
      "El numero 16 es par\n",
      "El numero 17 es impar\n",
      "El numero 18 es par\n",
      "El numero 19 es impar\n",
      "El numero 20 es par\n"
     ]
    }
   ],
   "source": [
    "for i in range(1,21):\n",
    "    if i%2==0:\n",
    "        print(\"El numero\",i,\"es par\")\n",
    "    else:\n",
    "        print(\"El numero\",i,\"es impar\")"
   ]
  },
  {
   "attachments": {},
   "cell_type": "markdown",
   "metadata": {},
   "source": [
    "4) En un ciclo for mostrar para los valores entre 0 y 5 el resultado de elevarlo a la potencia igual a 3"
   ]
  },
  {
   "cell_type": "code",
   "execution_count": 8,
   "metadata": {},
   "outputs": [
    {
     "name": "stdout",
     "output_type": "stream",
     "text": [
      "El numero 1 Elevado a la 3 es:  1\n",
      "El numero 2 Elevado a la 3 es:  8\n",
      "El numero 3 Elevado a la 3 es:  27\n",
      "El numero 4 Elevado a la 3 es:  64\n"
     ]
    }
   ],
   "source": [
    "for var in range(1,5):\n",
    "    print(\"El numero\", var,\"Elevado a la 3 es: \",var**3)"
   ]
  },
  {
   "attachments": {},
   "cell_type": "markdown",
   "metadata": {},
   "source": [
    "5) Crear una variable que contenga un número entero y realizar un ciclo for la misma cantidad de ciclos"
   ]
  },
  {
   "cell_type": "code",
   "execution_count": 10,
   "metadata": {},
   "outputs": [
    {
     "name": "stdout",
     "output_type": "stream",
     "text": [
      "Mayk 1\n",
      "Mayk 2\n",
      "Mayk 3\n",
      "Mayk 4\n",
      "Mayk 5\n"
     ]
    }
   ],
   "source": [
    "g=5\n",
    "for i in range(g):\n",
    "    print(\"Mayk\",i+1)\n"
   ]
  },
  {
   "attachments": {},
   "cell_type": "markdown",
   "metadata": {},
   "source": [
    "6) Utilizar un ciclo while para realizar el factorial de un número guardado en una variable, sólo si la variable contiene un número entero mayor a 0"
   ]
  },
  {
   "cell_type": "code",
   "execution_count": 37,
   "metadata": {},
   "outputs": [
    {
     "name": "stdout",
     "output_type": "stream",
     "text": [
      "Factorial de 5 es 120\n"
     ]
    }
   ],
   "source": [
    "x=5\n",
    "while x>0:\n",
    "    n=1\n",
    "    for i in range(1,x+1):\n",
    "        n*=i\n",
    "    print(\"Factorial de\",x,\"es\",n)\n",
    "    break"
   ]
  },
  {
   "attachments": {},
   "cell_type": "markdown",
   "metadata": {},
   "source": [
    "7) Crear un ciclo for dentro de un ciclo while"
   ]
  },
  {
   "cell_type": "code",
   "execution_count": 4,
   "metadata": {},
   "outputs": [
    {
     "name": "stdout",
     "output_type": "stream",
     "text": [
      "P\n",
      "y\n",
      "t\n",
      "h\n",
      "o\n",
      "n\n"
     ]
    }
   ],
   "source": [
    "x=2\n",
    "while x>0:\n",
    "    n=\"Python\"\n",
    "    for i in n:\n",
    "        print(i)\n",
    "    break"
   ]
  },
  {
   "attachments": {},
   "cell_type": "markdown",
   "metadata": {},
   "source": [
    "8) Crear un ciclo while dentro de un ciclo for"
   ]
  },
  {
   "cell_type": "code",
   "execution_count": 2,
   "metadata": {},
   "outputs": [
    {
     "name": "stdout",
     "output_type": "stream",
     "text": [
      "Soy 'i' igual a 3 y como pase de 2, imprimo\n",
      "Soy 'i' igual a 4 y como pase de 2, imprimo\n"
     ]
    }
   ],
   "source": [
    "for i in range(5):\n",
    "    while i>2:\n",
    "        print(\"Soy 'i' igual a\",i,\"y como pase de 2, imprimo\")\n",
    "        break"
   ]
  },
  {
   "attachments": {},
   "cell_type": "markdown",
   "metadata": {},
   "source": [
    "9) Imprimir los números primos existentes entre 0 y 30"
   ]
  },
  {
   "cell_type": "code",
   "execution_count": 5,
   "metadata": {},
   "outputs": [
    {
     "name": "stdout",
     "output_type": "stream",
     "text": [
      "El numero 2 es numero primo\n",
      "El numero 3 es numero primo\n",
      "El numero 5 es numero primo\n",
      "El numero 7 es numero primo\n",
      "El numero 11 es numero primo\n",
      "El numero 13 es numero primo\n",
      "El numero 17 es numero primo\n",
      "El numero 19 es numero primo\n",
      "El numero 23 es numero primo\n",
      "El numero 29 es numero primo\n"
     ]
    }
   ],
   "source": [
    "x=30 # Puede ser cualquier valor segun el operador\n",
    "for i in range(2,x+1): # for para delimitar los numeros reales del 0 al numero perido\n",
    "    cambia=0 #ponemos una variable para ver si suma en el tiempo que opera la funcion y vemos si el valor cambia\n",
    "    for n in range(2,i): # Aqui otro for, para hacer otra lista de numeros desde 2 al i-1 \n",
    "                         # y todos ellos pasarlos como divisor de i\n",
    "        if i%n==0: # aqui un boocle if para analisar cada n y si cambia sumamos una unidad a la variable \"cambia\"\n",
    "            cambia+=1\n",
    "    if cambia==0: # Ahora analizamos si cambio cambia y si no cambio entonces imprimo los numeros primos\n",
    "        print(\"El numero\",i,\"es numero primo\")"
   ]
  },
  {
   "attachments": {},
   "cell_type": "markdown",
   "metadata": {},
   "source": [
    "10) ¿Se puede mejorar el proceso del punto 9? Utilizar las sentencias break y/ó continue para tal fin"
   ]
  },
  {
   "cell_type": "code",
   "execution_count": 10,
   "metadata": {},
   "outputs": [
    {
     "name": "stdout",
     "output_type": "stream",
     "text": [
      "El numero 2 es numero primo\n",
      "El numero 3 es numero primo\n",
      "El numero 5 es numero primo\n",
      "El numero 7 es numero primo\n",
      "El numero 11 es numero primo\n",
      "El numero 13 es numero primo\n",
      "El numero 17 es numero primo\n",
      "El numero 19 es numero primo\n",
      "El numero 23 es numero primo\n",
      "El numero 29 es numero primo\n"
     ]
    }
   ],
   "source": [
    "x=30 \n",
    "for i in range(x+1): \n",
    "    if i==0 or i==1:\n",
    "        continue\n",
    "    else:\n",
    "        cambia=0 \n",
    "        for n in range(2,i): \n",
    "                           \n",
    "            if i%n==0: \n",
    "                cambia+=1\n",
    "    if cambia==0: \n",
    "        print(\"El numero\",i,\"es numero primo\")        "
   ]
  },
  {
   "attachments": {},
   "cell_type": "markdown",
   "metadata": {},
   "source": [
    "11) En los puntos 9 y 10, se diseño un código que encuentra números primos y además se lo optimizó. ¿Es posible saber en qué medida se optimizó?"
   ]
  },
  {
   "cell_type": "code",
   "execution_count": 40,
   "metadata": {},
   "outputs": [
    {
     "name": "stdout",
     "output_type": "stream",
     "text": [
      "El numero 2 es numero primo\n",
      "El numero 3 es numero primo\n",
      "El numero 5 es numero primo\n",
      "El numero 7 es numero primo\n",
      "El numero 11 es numero primo\n",
      "El numero 13 es numero primo\n",
      "El numero 17 es numero primo\n",
      "El numero 19 es numero primo\n",
      "El numero 23 es numero primo\n",
      "El numero 29 es numero primo\n",
      "Numero de Cliclos es: 52\n"
     ]
    }
   ],
   "source": [
    "#Aun no lo sé, busque en el slack y no encontre respuesta para esta pregunta.\n",
    "x=30 # Puede ser cualquier valor segun el operador\n",
    "ciclos=0\n",
    "for i in range(2,x+1): # for para delimitar los numeros reales del 0 al numero perido\n",
    "    cambia=0 #ponemos una variable para ver si suma en el tiempo que opera la funcion y vemos si el valor cambia\n",
    "    for n in range(2,i): # Aqui otro for, para hacer otra lista de numeros desde 2 al i-1 \n",
    "                         # y todos ellos pasarlos como divisor de i\n",
    "        if i%n==0: # aqui un boocle if para analisar cada n y si cambia sumamos una unidad a la variable \"cambia\"\n",
    "            cambia+=1\n",
    "            ciclos+=1\n",
    "    if cambia==0: # Ahora analizamos si cambio cambia y si no cambio entonces imprimo los numeros primos\n",
    "        print(\"El numero\",i,\"es numero primo\")\n",
    "print(\"Numero de Cliclos es:\",ciclos)"
   ]
  },
  {
   "cell_type": "code",
   "execution_count": 46,
   "metadata": {},
   "outputs": [
    {
     "name": "stdout",
     "output_type": "stream",
     "text": [
      "El numero 2 es numero primo\n",
      "El numero 3 es numero primo\n",
      "El numero 5 es numero primo\n",
      "El numero 7 es numero primo\n",
      "El numero 11 es numero primo\n",
      "El numero 13 es numero primo\n",
      "El numero 17 es numero primo\n",
      "El numero 19 es numero primo\n",
      "El numero 23 es numero primo\n",
      "El numero 29 es numero primo\n",
      "Numero de Cliclos es: 23\n",
      "se optimizo 0.4423076923076923 %\n"
     ]
    }
   ],
   "source": [
    "x=30 \n",
    "ciclos=0\n",
    "for i in range(x+1): \n",
    "    if i==0 or i==1:\n",
    "        continue\n",
    "    else:\n",
    "        cambia=0\n",
    "        ciclos-=1\n",
    "        for n in range(2,i): \n",
    "                           \n",
    "            if i%n==0: \n",
    "                cambia+=1\n",
    "                ciclos+=1\n",
    "    if cambia==0: \n",
    "        print(\"El numero\",i,\"es numero primo\")  \n",
    "print(\"Numero de Cliclos es:\",ciclos)\n",
    "print(\"se optimizo\",23/52,\"%\")"
   ]
  },
  {
   "attachments": {},
   "cell_type": "markdown",
   "metadata": {},
   "source": [
    "12) Aplicando continue, armar un ciclo while que solo imprima los valores divisibles por 12, dentro del rango de números de 100 a 300"
   ]
  },
  {
   "cell_type": "code",
   "execution_count": 48,
   "metadata": {},
   "outputs": [
    {
     "name": "stdout",
     "output_type": "stream",
     "text": [
      "108\n",
      "120\n",
      "132\n",
      "144\n",
      "156\n",
      "168\n",
      "180\n",
      "192\n",
      "204\n",
      "216\n",
      "228\n",
      "240\n",
      "252\n",
      "264\n",
      "276\n",
      "288\n",
      "\n",
      "En total hay 16 numeros divisibles por 12\n"
     ]
    }
   ],
   "source": [
    "a=100;b=300;x=0;i=0\n",
    "while x<300:\n",
    "    if x<100:\n",
    "        x+=1\n",
    "        continue\n",
    "    elif x%12!=0:\n",
    "        x+=1\n",
    "    elif x%12==0:\n",
    "        i+=1\n",
    "        print(x)\n",
    "        x+=1\n",
    "print(\"\")\n",
    "print(\"En total hay\",i,\"numeros divisibles por 12\")        "
   ]
  },
  {
   "attachments": {},
   "cell_type": "markdown",
   "metadata": {},
   "source": [
    "13) Utilizar la función **input()** que permite hacer ingresos por teclado, para encontrar números primos y dar la opción al usario de buscar el siguiente"
   ]
  },
  {
   "cell_type": "code",
   "execution_count": 27,
   "metadata": {},
   "outputs": [
    {
     "name": "stdout",
     "output_type": "stream",
     "text": [
      "El numero 2 es numero primo\n",
      "El numero 3 es numero primo\n",
      "El numero 5 es numero primo\n",
      "El numero 7 es numero primo\n",
      "El numero 11 es numero primo\n",
      "El numero 13 es numero primo\n",
      "El numero 17 es numero primo\n",
      "El numero 19 es numero primo\n",
      "El numero 23 es numero primo\n"
     ]
    }
   ],
   "source": [
    "x=int(input(\"Ingresa un numero:\"))\n",
    "\n",
    "for i in range(x+1): \n",
    "    if i==0 or i==1:\n",
    "        continue\n",
    "    else:\n",
    "        cambia=0 \n",
    "        for n in range(2,i): \n",
    "                           \n",
    "            if i%n==0: \n",
    "                cambia+=1\n",
    "    if cambia==0: \n",
    "        print(\"El numero\",i,\"es numero primo\") "
   ]
  },
  {
   "attachments": {},
   "cell_type": "markdown",
   "metadata": {},
   "source": [
    "14) Crear un ciclo while que encuentre dentro del rango de 100 a 300 el primer número divisible por 3 y además múltiplo de 6"
   ]
  },
  {
   "cell_type": "code",
   "execution_count": 52,
   "metadata": {},
   "outputs": [
    {
     "name": "stdout",
     "output_type": "stream",
     "text": [
      "102\n",
      "\n",
      "El primer numero divisibles por 3 y multiplo de 6 es 102\n"
     ]
    }
   ],
   "source": [
    "a=100;b=300;x=0;i=0\n",
    "while x<300:\n",
    "    if x<100:\n",
    "        x+=1\n",
    "        continue\n",
    "    elif x%3!=0:\n",
    "        x+=1\n",
    "    elif x%3==0:\n",
    "        if x%2==0:\n",
    "            i+=1\n",
    "            print(x)\n",
    "            x+=1\n",
    "            break\n",
    "print(\"\")\n",
    "print(\"El primer numero divisibles por 3 y multiplo de 6 es\", x-1)    "
   ]
  }
 ],
 "metadata": {
  "interpreter": {
   "hash": "c85384e4cb51c8b72350f3a8712cc8351fdc3955e32a27f9b60c6242ab125f01"
  },
  "kernelspec": {
   "display_name": "Python 3 (ipykernel)",
   "language": "python",
   "name": "python3"
  },
  "language_info": {
   "codemirror_mode": {
    "name": "ipython",
    "version": 3
   },
   "file_extension": ".py",
   "mimetype": "text/x-python",
   "name": "python",
   "nbconvert_exporter": "python",
   "pygments_lexer": "ipython3",
   "version": "3.11.4"
  }
 },
 "nbformat": 4,
 "nbformat_minor": 4
}
