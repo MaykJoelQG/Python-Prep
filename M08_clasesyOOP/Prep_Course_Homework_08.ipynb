{
 "cells": [
  {
   "attachments": {},
   "cell_type": "markdown",
   "metadata": {},
   "source": [
    "## Clases y Programación Orientada a Objetos"
   ]
  },
  {
   "attachments": {},
   "cell_type": "markdown",
   "metadata": {},
   "source": [
    "1) Crear la clase vehículo que contenga los atributos:<br>\n",
    "Color<br>\n",
    "Si es moto, auto, camioneta ó camión<br>\n",
    "Cilindrada del motor"
   ]
  },
  {
   "cell_type": "code",
   "execution_count": 1,
   "metadata": {},
   "outputs": [],
   "source": [
    "class Vehiculo:\n",
    "    def __init__(self,color,tipo_maquina,cilindrada):\n",
    "        self.color = color\n",
    "        self.tipo_maquina = tipo_maquina\n",
    "        self.cilindrada = cilindrada"
   ]
  },
  {
   "attachments": {},
   "cell_type": "markdown",
   "metadata": {},
   "source": [
    "2) A la clase Vehiculo creada en el punto 1, agregar los siguientes métodos:<br>\n",
    "Acelerar<br>\n",
    "Frenar<br>\n",
    "Doblar<br>"
   ]
  },
  {
   "cell_type": "code",
   "execution_count": 2,
   "metadata": {},
   "outputs": [],
   "source": [
    "# lase Padre\n",
    "class Vehiculo:\n",
    "    # Metodo Constructor\n",
    "    def __init__(self,color,tipo_maquina,cilindrada):\n",
    "        # Atributos\n",
    "        self.color = color\n",
    "        self.tipo_maquina = tipo_maquina\n",
    "        self.cilindrada = cilindrada\n",
    "\n",
    "        self.velocidad = 0\n",
    "        self.grados = 0\n",
    "    \n",
    "    # Metodo Generico\n",
    "    def acelerar(self, vel):\n",
    "        self.velocidad += vel\n",
    "\n",
    "    # Metodo Generico    \n",
    "    def frenar(self, vel):\n",
    "        self.velocidad -= vel\n",
    "\n",
    "    # Metodo Generico\n",
    "    def doblar(self, gra):\n",
    "        self.grados += gra"
   ]
  },
  {
   "attachments": {},
   "cell_type": "markdown",
   "metadata": {},
   "source": [
    "3) Instanciar 3 objetos de la clase vehículo y ejecutar sus métodos, probar luego el resultado"
   ]
  },
  {
   "cell_type": "code",
   "execution_count": 3,
   "metadata": {},
   "outputs": [],
   "source": [
    "vici = Vehiculo('Rojo','Bicicleta',1/4) #Creamos los objetos en base a la clase vehiculo\n",
    "moto = Vehiculo('Rojo','Motocicleta',3/4)\n",
    "trac = Vehiculo('Rojo','Tractor',2)"
   ]
  },
  {
   "cell_type": "code",
   "execution_count": 4,
   "metadata": {},
   "outputs": [],
   "source": [
    "vici.acelerar(18)\n",
    "vici.frenar(6)\n",
    "vici.doblar(30)\n",
    "\n",
    "moto.acelerar(60)\n",
    "moto.frenar(25)\n",
    "moto.doblar(15)\n",
    "\n",
    "trac.acelerar(12)\n",
    "trac.frenar(6)\n",
    "trac.doblar(-30)"
   ]
  },
  {
   "attachments": {},
   "cell_type": "markdown",
   "metadata": {},
   "source": [
    "4) Agregar a la clase Vehiculo, un método que muestre su estado, es decir, a que velocidad se encuentra y su dirección. Y otro método que muestre color, tipo y cilindrada"
   ]
  },
  {
   "cell_type": "code",
   "execution_count": 7,
   "metadata": {},
   "outputs": [],
   "source": [
    "# lase Padre\n",
    "class Vehiculo:\n",
    "    # Metodo Constructor\n",
    "    def __init__(self,color,tipo_maquina,cilindrada):\n",
    "        # Atributos\n",
    "        self.color = color\n",
    "        self.tipo_maquina = tipo_maquina\n",
    "        self.cilindrada = cilindrada\n",
    "\n",
    "        self.velocidad = 0\n",
    "        self.grados = 0\n",
    "    \n",
    "    # Metodo Generico\n",
    "    def acelerar(self, vel):\n",
    "        self.velocidad += vel\n",
    "\n",
    "    # Metodo Generico    \n",
    "    def frenar(self, vel):\n",
    "        self.velocidad -= vel\n",
    "\n",
    "    # Metodo Generico\n",
    "    def doblar(self, gra):\n",
    "        self.grados += gra\n",
    "\n",
    "    # Metodo estado\n",
    "    def estado(self):\n",
    "        return print('Mi velocidad es:',self.velocidad,'y mi direccion es:', self.grados,'grados')\n",
    "    \n",
    "    # Metodo Detalle\n",
    "    def describeme(self):\n",
    "        return print('Soy un vehiculo del tipo',self.tipo_maquina,'de color', self.color,'con una cilindrada de',self.cilindrada,'galones')"
   ]
  },
  {
   "cell_type": "code",
   "execution_count": 8,
   "metadata": {},
   "outputs": [],
   "source": [
    "a1 = Vehiculo('Verde','Automovil',5)"
   ]
  },
  {
   "cell_type": "code",
   "execution_count": 9,
   "metadata": {},
   "outputs": [
    {
     "name": "stdout",
     "output_type": "stream",
     "text": [
      "Soy un vehiculo del tipo Automovil de color Verde con una cilindrada de 5 galones\n"
     ]
    }
   ],
   "source": [
    "a1.describeme()"
   ]
  },
  {
   "cell_type": "code",
   "execution_count": 10,
   "metadata": {},
   "outputs": [
    {
     "name": "stdout",
     "output_type": "stream",
     "text": [
      "Mi velocidad es: 0 y mi direccion es: 0 grados\n"
     ]
    }
   ],
   "source": [
    "a1.estado()"
   ]
  },
  {
   "cell_type": "code",
   "execution_count": 11,
   "metadata": {},
   "outputs": [
    {
     "name": "stdout",
     "output_type": "stream",
     "text": [
      "Mi velocidad es: 33 y mi direccion es: 45 grados\n"
     ]
    }
   ],
   "source": [
    "a1.acelerar(56)\n",
    "a1.doblar(45)\n",
    "a1.frenar(23)\n",
    "a1.estado()"
   ]
  },
  {
   "attachments": {},
   "cell_type": "markdown",
   "metadata": {},
   "source": [
    "5) Crear una clase que permita utilizar las funciones creadas en la práctica del módulo 7<br>\n",
    "Verificar Primo<br>\n",
    "Valor modal<br>\n",
    "Conversión grados<br>\n",
    "Factorial<br>"
   ]
  },
  {
   "cell_type": "code",
   "execution_count": 56,
   "metadata": {},
   "outputs": [],
   "source": [
    "class Herramienta:\n",
    "   \n",
    "    # ---------- Metodo Constructor -----------\n",
    "    def __init__(self):\n",
    "        pass\n",
    "   \n",
    "    # ---------- Funcion Primos -----------\n",
    "    def lista_numeros_primos(self,lista):\n",
    "        lista_nueva = []\n",
    "        for g in lista:\n",
    "            primo=True\n",
    "            for i in range(2,g):\n",
    "                if g%i==0:\n",
    "                    primo=False\n",
    "            #return primo\n",
    "            \n",
    "            if primo == True:\n",
    "                lista_nueva.append(g)\n",
    "        return lista_nueva\n",
    "    \n",
    "    # ---------- Funcion Valor Modal -----------\n",
    "    def contar(self,lista): #creando la funcion\n",
    "        result = {} # creamos un diccionario donde pondremos los valores sin repetir y la mcantidad de veces se repite\n",
    "        for i in lista: #analizamos todos los elementos de la lista\n",
    "            if i not in result: #se an aliza cada elemento del diccionario, si esta o no esta dentro\n",
    "                result[i] = 0    # Si \"NO\" está, se agrega al diccionario el valor como clave y su numero de repeticiones como valor (e,h)\n",
    "            result[i] += 1      # si ya está en el diccionario, se sumara a su valor +1 que es el numero de repeticiones que se encuentran en la lista dada\n",
    "        #print(result.keys()) # Imprimimos las claves del diccionario, lo cuales son los elelentos de la lista dada sin repeticiones\n",
    "        \n",
    "        #leyendo las claves y valores del diccionario\n",
    "        n = 0 # creamos un variable para almacenar el mayor de los valores\n",
    "        m = 0 # Creamos una variable donde almacenaremos la clave del mayor valor\n",
    "        for e, h in result.items(): # Hacemos un for para analizar todas las claves y valores del diccionario\n",
    "            if h > n: # una condicional para decir si n es mayor al item valor analizaro entonces no me combien n\n",
    "                n = h # Cambiando n si y solo si h es mayor\n",
    "                m = e # cambiando m con el key e si y solo si n es mayor que h\n",
    "\n",
    "        print('El numero',m,'es el numero que mas se ha repetido, repitiendose',n,'veces') #imprimimos el numero que se repitio mas\n",
    "   \n",
    "    # ---------- Funcion Termometro -----------\n",
    "    def termometro(self,valor, grados_origen, grados_destino):\n",
    "        grados_origen = grados_origen.upper()\n",
    "        grados_destino = grados_destino.upper()\n",
    "\n",
    "        if grados_origen == grados_destino:\n",
    "            print(valor)\n",
    "        elif grados_origen == 'C' and grados_destino == 'F':\n",
    "            print(float(valor),'°C Celsius es igual a',(valor*9/5)+32,'°F grados FarenHeith')#\n",
    "        elif grados_origen == 'C' and grados_destino == 'K':\n",
    "            print(float(valor),'°C Celsius es igual a',(valor+273.15),'°K grados Kelvin')#\n",
    "        elif grados_origen == 'K' and grados_destino == 'C':\n",
    "            print(float(valor), '°K Kelvin es igual a',(valor-273.15),'°C grados Celsius')#\n",
    "        elif grados_origen == 'K' and grados_destino == 'F':\n",
    "            print(float(valor), '°K Kelvin es igual a',((valor-273.15)*9/5)+32,'°F grados FarenHeith')#\n",
    "        elif grados_origen == 'F' and grados_destino == 'C':\n",
    "            print(float(valor), '°F FarenHeith es igual a',(valor-32)*5/9,'°C grados Celsius')#\n",
    "        elif grados_origen == 'F' and grados_destino == 'K':\n",
    "            print(float(valor), '°F FarenHeith es igual a',((valor-32)*5/9)+273.15,'°K grados Kelvin')\n",
    "    \n",
    "    # ---------- Funcion  Factorial -----------\n",
    "    def factoriale(self,num):\n",
    "        if (type(num) != int):\n",
    "            print('Verifica el numero que pusiste, solo se admiten enteros')\n",
    "        elif num < 0:\n",
    "            print('Pusiste un numero negativo, solo se admiten enteros')    \n",
    "        elif num <= 1:\n",
    "            print(1)\n",
    "        else:        \n",
    "            # Realizando el Factorial\n",
    "            n=1\n",
    "            for i in range(num):\n",
    "                n*=(i+1)\n",
    "            print(n)"
   ]
  },
  {
   "attachments": {},
   "cell_type": "markdown",
   "metadata": {},
   "source": [
    "6) Probar las funciones incorporadas en la clase del punto 5"
   ]
  },
  {
   "cell_type": "code",
   "execution_count": 57,
   "metadata": {},
   "outputs": [],
   "source": [
    "#Creando el objeto a1 de la clase Herramientas\n",
    "a1 = Herramienta()"
   ]
  },
  {
   "cell_type": "code",
   "execution_count": 58,
   "metadata": {},
   "outputs": [
    {
     "data": {
      "text/plain": [
       "[2, 3, 17, 487, 97, 53, 47, 43, 31]"
      ]
     },
     "execution_count": 58,
     "metadata": {},
     "output_type": "execute_result"
    }
   ],
   "source": [
    "#Llamando al metodo numero primos\n",
    "list = [2,3,56,17,42,487,58,97,53,56,417,65,435,25,685,47,275,43,31]\n",
    "a1.lista_numeros_primos(list)"
   ]
  },
  {
   "cell_type": "code",
   "execution_count": 59,
   "metadata": {},
   "outputs": [
    {
     "name": "stdout",
     "output_type": "stream",
     "text": [
      "El numero 5 es el numero que mas se ha repetido, repitiendose 32 veces\n"
     ]
    }
   ],
   "source": [
    "#Llamando a la funcion modal\n",
    "lista = [1,1,1,22,2,2,2,2,2,2,2,2,3,6,5,4,5,6,5,8,9,6,7,8,9,5,5,5,5,5,5,5,5,5,5,5,5,5,5,5,5,5,5,5,5,5,5,5,5,5,5,5,5,5,4,6,23,22,25,28,1,14,15,18,89,56,35,74,58,26,15,36,95,39,2,3,56,17,42,487,58,97,53,56,417,65,435,25,685,47,275,43,31]\n",
    "a1.contar(lista)"
   ]
  },
  {
   "cell_type": "code",
   "execution_count": 60,
   "metadata": {},
   "outputs": [
    {
     "name": "stdout",
     "output_type": "stream",
     "text": [
      "30.0 °C Celsius es igual a 86.0 °F grados FarenHeith\n",
      "30.0 °F FarenHeith es igual a 272.0388888888889 °K grados Kelvin\n",
      "30.0 °K Kelvin es igual a -243.14999999999998 °C grados Celsius\n",
      "30.0 °K Kelvin es igual a -405.66999999999996 °F grados FarenHeith\n",
      "30.0 °C Celsius es igual a 303.15 °K grados Kelvin\n",
      "30.0 °F FarenHeith es igual a -1.1111111111111112 °C grados Celsius\n"
     ]
    }
   ],
   "source": [
    "#Llamando a la funcion Termometro\n",
    "a1.termometro(30,'c','F')\n",
    "a1.termometro(30,'f','k')\n",
    "a1.termometro(30,'k','C')\n",
    "a1.termometro(30,'k','F')\n",
    "a1.termometro(30,'c','k')\n",
    "a1.termometro(30,'f','c')"
   ]
  },
  {
   "cell_type": "code",
   "execution_count": 61,
   "metadata": {},
   "outputs": [
    {
     "name": "stdout",
     "output_type": "stream",
     "text": [
      "25852016738884976640000\n"
     ]
    }
   ],
   "source": [
    "#LLamando a la funcion factial del objeto a1 de la clase herramientas.\n",
    "a1.factoriale(23)"
   ]
  },
  {
   "attachments": {},
   "cell_type": "markdown",
   "metadata": {},
   "source": [
    "7) Es necesario que la clase creada en el punto 5 contenga una lista, sobre la cual se apliquen las funciones incorporadas"
   ]
  },
  {
   "cell_type": "code",
   "execution_count": 66,
   "metadata": {},
   "outputs": [],
   "source": [
    "class Herramienta:\n",
    "   \n",
    "    # ---------- Metodo Constructor -----------\n",
    "    def __init__(self,lista):\n",
    "        self.lista = lista\n",
    "   \n",
    "    # ---------- Funcion Primos -----------\n",
    "    def lista_numeros_primos(self):\n",
    "        lista_nueva = []\n",
    "        for g in lista:\n",
    "            primo=True\n",
    "            for i in range(2,g):\n",
    "                if g%i==0:\n",
    "                    primo=False\n",
    "            #return primo\n",
    "            \n",
    "            if primo == True:\n",
    "                lista_nueva.append(g)\n",
    "        return print(lista_nueva)\n",
    "    \n",
    "    # ---------- Funcion Valor Modal -----------\n",
    "    def contar(self): #creando la funcion\n",
    "        result = {} # creamos un diccionario donde pondremos los valores sin repetir y la mcantidad de veces se repite\n",
    "        for i in lista: #analizamos todos los elementos de la lista\n",
    "            if i not in result: #se an aliza cada elemento del diccionario, si esta o no esta dentro\n",
    "                result[i] = 0    # Si \"NO\" está, se agrega al diccionario el valor como clave y su numero de repeticiones como valor (e,h)\n",
    "            result[i] += 1      # si ya está en el diccionario, se sumara a su valor +1 que es el numero de repeticiones que se encuentran en la lista dada\n",
    "        #print(result.keys()) # Imprimimos las claves del diccionario, lo cuales son los elelentos de la lista dada sin repeticiones\n",
    "        \n",
    "        #leyendo las claves y valores del diccionario\n",
    "        n = 0 # creamos un variable para almacenar el mayor de los valores\n",
    "        m = 0 # Creamos una variable donde almacenaremos la clave del mayor valor\n",
    "        for e, h in result.items(): # Hacemos un for para analizar todas las claves y valores del diccionario\n",
    "            if h > n: # una condicional para decir si n es mayor al item valor analizaro entonces no me combien n\n",
    "                n = h # Cambiando n si y solo si h es mayor\n",
    "                m = e # cambiando m con el key e si y solo si n es mayor que h\n",
    "\n",
    "        print('El numero',m,'es el numero que mas se ha repetido, repitiendose',n,'veces') #imprimimos el numero que se repitio mas\n",
    "   \n",
    "    # ---------- Funcion Termometro -----------\n",
    "    def termometro(self, grados_origen, grados_destino):\n",
    "        grados_origen = grados_origen.upper()\n",
    "        grados_destino = grados_destino.upper()\n",
    "        for valor in lista:\n",
    "            if grados_origen == grados_destino:\n",
    "                print(valor)\n",
    "            elif grados_origen == 'C' and grados_destino == 'F':\n",
    "                print(float(valor),'°C Celsius es igual a',(valor*9/5)+32,'°F grados FarenHeith')#\n",
    "            elif grados_origen == 'C' and grados_destino == 'K':\n",
    "                print(float(valor),'°C Celsius es igual a',(valor+273.15),'°K grados Kelvin')#\n",
    "            elif grados_origen == 'K' and grados_destino == 'C':\n",
    "                print(float(valor), '°K Kelvin es igual a',(valor-273.15),'°C grados Celsius')#\n",
    "            elif grados_origen == 'K' and grados_destino == 'F':\n",
    "                print(float(valor), '°K Kelvin es igual a',((valor-273.15)*9/5)+32,'°F grados FarenHeith')#\n",
    "            elif grados_origen == 'F' and grados_destino == 'C':\n",
    "                print(float(valor), '°F FarenHeith es igual a',(valor-32)*5/9,'°C grados Celsius')#\n",
    "            elif grados_origen == 'F' and grados_destino == 'K':\n",
    "                print(float(valor), '°F FarenHeith es igual a',((valor-32)*5/9)+273.15,'°K grados Kelvin')\n",
    "    \n",
    "    # ---------- Funcion  Factorial -----------\n",
    "    def factoriale(self):\n",
    "        for num in lista:\n",
    "            if (type(num) != int):\n",
    "                print('Verifica el numero que pusiste, solo se admiten enteros')\n",
    "            elif num < 0:\n",
    "                print('Pusiste un numero negativo, solo se admiten enteros')    \n",
    "            elif num <= 1:\n",
    "                print(1)\n",
    "            else:        \n",
    "                # Realizando el Factorial\n",
    "                n=1\n",
    "                for i in range(num):\n",
    "                    n*=(i+1)\n",
    "                print(n)"
   ]
  },
  {
   "cell_type": "code",
   "execution_count": 67,
   "metadata": {},
   "outputs": [],
   "source": [
    "#Creando la lista a analizar\n",
    "lista1 = [1,1,1,22,2,2,2,2,2,2,2,2,3,6,5,4,5,6,5,8,9,6,7,8,9,5,5,5,5,5,5,5,5,5,5,5,5,5,5,5,5,5,5,5,5,5,5,5,5,5,5,5,5,5,4,6,23,22,25,28,1,14,15,18,89,56,35,74,58,26,15,36,95,39,2,3,56,17,42,487,58,97,53,56,417,65,435,25,685,47,275,43,31]\n",
    "#Creando el objeto a2 de la clase Herramienta\n",
    "a2 = Herramienta(lista1)"
   ]
  },
  {
   "cell_type": "code",
   "execution_count": 68,
   "metadata": {},
   "outputs": [
    {
     "name": "stdout",
     "output_type": "stream",
     "text": [
      "[1, 1, 1, 2, 2, 2, 2, 2, 2, 2, 2, 3, 5, 5, 5, 7, 5, 5, 5, 5, 5, 5, 5, 5, 5, 5, 5, 5, 5, 5, 5, 5, 5, 5, 5, 5, 5, 5, 5, 5, 5, 5, 5, 5, 5, 23, 1, 89]\n"
     ]
    }
   ],
   "source": [
    "#Llamando al metodo numeros primos del objeto a2\n",
    "a2.lista_numeros_primos()"
   ]
  },
  {
   "cell_type": "code",
   "execution_count": 69,
   "metadata": {},
   "outputs": [
    {
     "name": "stdout",
     "output_type": "stream",
     "text": [
      "El numero 5 es el numero que mas se ha repetido, repitiendose 32 veces\n"
     ]
    }
   ],
   "source": [
    "#Llamando al metodo contar del objeto a2\n",
    "a2.contar()"
   ]
  },
  {
   "cell_type": "code",
   "execution_count": 73,
   "metadata": {},
   "outputs": [
    {
     "name": "stdout",
     "output_type": "stream",
     "text": [
      "1.0 °C Celsius es igual a 274.15 °K grados Kelvin\n",
      "1.0 °C Celsius es igual a 274.15 °K grados Kelvin\n",
      "1.0 °C Celsius es igual a 274.15 °K grados Kelvin\n",
      "22.0 °C Celsius es igual a 295.15 °K grados Kelvin\n",
      "2.0 °C Celsius es igual a 275.15 °K grados Kelvin\n",
      "2.0 °C Celsius es igual a 275.15 °K grados Kelvin\n",
      "2.0 °C Celsius es igual a 275.15 °K grados Kelvin\n",
      "2.0 °C Celsius es igual a 275.15 °K grados Kelvin\n",
      "2.0 °C Celsius es igual a 275.15 °K grados Kelvin\n",
      "2.0 °C Celsius es igual a 275.15 °K grados Kelvin\n",
      "2.0 °C Celsius es igual a 275.15 °K grados Kelvin\n",
      "2.0 °C Celsius es igual a 275.15 °K grados Kelvin\n",
      "3.0 °C Celsius es igual a 276.15 °K grados Kelvin\n",
      "6.0 °C Celsius es igual a 279.15 °K grados Kelvin\n",
      "5.0 °C Celsius es igual a 278.15 °K grados Kelvin\n",
      "4.0 °C Celsius es igual a 277.15 °K grados Kelvin\n",
      "5.0 °C Celsius es igual a 278.15 °K grados Kelvin\n",
      "6.0 °C Celsius es igual a 279.15 °K grados Kelvin\n",
      "5.0 °C Celsius es igual a 278.15 °K grados Kelvin\n",
      "8.0 °C Celsius es igual a 281.15 °K grados Kelvin\n",
      "9.0 °C Celsius es igual a 282.15 °K grados Kelvin\n",
      "6.0 °C Celsius es igual a 279.15 °K grados Kelvin\n",
      "7.0 °C Celsius es igual a 280.15 °K grados Kelvin\n",
      "8.0 °C Celsius es igual a 281.15 °K grados Kelvin\n",
      "9.0 °C Celsius es igual a 282.15 °K grados Kelvin\n",
      "5.0 °C Celsius es igual a 278.15 °K grados Kelvin\n",
      "5.0 °C Celsius es igual a 278.15 °K grados Kelvin\n",
      "5.0 °C Celsius es igual a 278.15 °K grados Kelvin\n",
      "5.0 °C Celsius es igual a 278.15 °K grados Kelvin\n",
      "5.0 °C Celsius es igual a 278.15 °K grados Kelvin\n",
      "5.0 °C Celsius es igual a 278.15 °K grados Kelvin\n",
      "5.0 °C Celsius es igual a 278.15 °K grados Kelvin\n",
      "5.0 °C Celsius es igual a 278.15 °K grados Kelvin\n",
      "5.0 °C Celsius es igual a 278.15 °K grados Kelvin\n",
      "5.0 °C Celsius es igual a 278.15 °K grados Kelvin\n",
      "5.0 °C Celsius es igual a 278.15 °K grados Kelvin\n",
      "5.0 °C Celsius es igual a 278.15 °K grados Kelvin\n",
      "5.0 °C Celsius es igual a 278.15 °K grados Kelvin\n",
      "5.0 °C Celsius es igual a 278.15 °K grados Kelvin\n",
      "5.0 °C Celsius es igual a 278.15 °K grados Kelvin\n",
      "5.0 °C Celsius es igual a 278.15 °K grados Kelvin\n",
      "5.0 °C Celsius es igual a 278.15 °K grados Kelvin\n",
      "5.0 °C Celsius es igual a 278.15 °K grados Kelvin\n",
      "5.0 °C Celsius es igual a 278.15 °K grados Kelvin\n",
      "5.0 °C Celsius es igual a 278.15 °K grados Kelvin\n",
      "5.0 °C Celsius es igual a 278.15 °K grados Kelvin\n",
      "5.0 °C Celsius es igual a 278.15 °K grados Kelvin\n",
      "5.0 °C Celsius es igual a 278.15 °K grados Kelvin\n",
      "5.0 °C Celsius es igual a 278.15 °K grados Kelvin\n",
      "5.0 °C Celsius es igual a 278.15 °K grados Kelvin\n",
      "5.0 °C Celsius es igual a 278.15 °K grados Kelvin\n",
      "5.0 °C Celsius es igual a 278.15 °K grados Kelvin\n",
      "5.0 °C Celsius es igual a 278.15 °K grados Kelvin\n",
      "5.0 °C Celsius es igual a 278.15 °K grados Kelvin\n",
      "4.0 °C Celsius es igual a 277.15 °K grados Kelvin\n",
      "6.0 °C Celsius es igual a 279.15 °K grados Kelvin\n",
      "23.0 °C Celsius es igual a 296.15 °K grados Kelvin\n",
      "22.0 °C Celsius es igual a 295.15 °K grados Kelvin\n",
      "25.0 °C Celsius es igual a 298.15 °K grados Kelvin\n",
      "28.0 °C Celsius es igual a 301.15 °K grados Kelvin\n",
      "1.0 °C Celsius es igual a 274.15 °K grados Kelvin\n",
      "14.0 °C Celsius es igual a 287.15 °K grados Kelvin\n",
      "15.0 °C Celsius es igual a 288.15 °K grados Kelvin\n",
      "18.0 °C Celsius es igual a 291.15 °K grados Kelvin\n",
      "89.0 °C Celsius es igual a 362.15 °K grados Kelvin\n",
      "56.0 °C Celsius es igual a 329.15 °K grados Kelvin\n",
      "35.0 °C Celsius es igual a 308.15 °K grados Kelvin\n",
      "74.0 °C Celsius es igual a 347.15 °K grados Kelvin\n",
      "58.0 °C Celsius es igual a 331.15 °K grados Kelvin\n",
      "26.0 °C Celsius es igual a 299.15 °K grados Kelvin\n",
      "15.0 °C Celsius es igual a 288.15 °K grados Kelvin\n",
      "36.0 °C Celsius es igual a 309.15 °K grados Kelvin\n",
      "95.0 °C Celsius es igual a 368.15 °K grados Kelvin\n",
      "39.0 °C Celsius es igual a 312.15 °K grados Kelvin\n"
     ]
    }
   ],
   "source": [
    "#Llamando al metodo termometro del objeto a2\n",
    "a2.termometro('c','k')"
   ]
  },
  {
   "cell_type": "code",
   "execution_count": 74,
   "metadata": {},
   "outputs": [
    {
     "name": "stdout",
     "output_type": "stream",
     "text": [
      "1\n",
      "1\n",
      "1\n",
      "1124000727777607680000\n",
      "2\n",
      "2\n",
      "2\n",
      "2\n",
      "2\n",
      "2\n",
      "2\n",
      "2\n",
      "6\n",
      "720\n",
      "120\n",
      "24\n",
      "120\n",
      "720\n",
      "120\n",
      "40320\n",
      "362880\n",
      "720\n",
      "5040\n",
      "40320\n",
      "362880\n",
      "120\n",
      "120\n",
      "120\n",
      "120\n",
      "120\n",
      "120\n",
      "120\n",
      "120\n",
      "120\n",
      "120\n",
      "120\n",
      "120\n",
      "120\n",
      "120\n",
      "120\n",
      "120\n",
      "120\n",
      "120\n",
      "120\n",
      "120\n",
      "120\n",
      "120\n",
      "120\n",
      "120\n",
      "120\n",
      "120\n",
      "120\n",
      "120\n",
      "120\n",
      "24\n",
      "720\n",
      "25852016738884976640000\n",
      "1124000727777607680000\n",
      "15511210043330985984000000\n",
      "304888344611713860501504000000\n",
      "1\n",
      "87178291200\n",
      "1307674368000\n",
      "6402373705728000\n",
      "16507955160908461081216919262453619309839666236496541854913520707833171034378509739399912570787600662729080382999756800000000000000000000\n",
      "710998587804863451854045647463724949736497978881168458687447040000000000000\n",
      "10333147966386144929666651337523200000000\n",
      "330788544151938641225953028221253782145683251820934971170611926835411235700971565459250872320000000000000000\n",
      "2350561331282878571829474910515074683828862318181142924420699914240000000000000\n",
      "403291461126605635584000000\n",
      "1307674368000\n",
      "371993326789901217467999448150835200000000\n",
      "10329978488239059262599702099394727095397746340117372869212250571234293987594703124871765375385424468563282236864226607350415360000000000000000000000\n",
      "20397882081197443358640281739902897356800000000\n"
     ]
    }
   ],
   "source": [
    "#Llamando al metodo factorial del objeto a2\n",
    "a2.factoriale()"
   ]
  },
  {
   "attachments": {},
   "cell_type": "markdown",
   "metadata": {},
   "source": [
    "8) Crear un archivo .py aparte y ubicar allí la clase generada en el punto anterior. Luego realizar la importación del módulo y probar alguna de sus funciones"
   ]
  },
  {
   "cell_type": "code",
   "execution_count": 75,
   "metadata": {},
   "outputs": [],
   "source": [
    "#Llamando a los metodos funciones de la clase Herramienta dentro de archivo .py Archivo de prueba\n",
    "from Archivo_prueba import *"
   ]
  },
  {
   "cell_type": "code",
   "execution_count": 76,
   "metadata": {},
   "outputs": [],
   "source": [
    "#Creando la lista a analizar\n",
    "lista1 = [1,1,1,22,2,2,2,2,2,2,2,2,3,6,5,4,5,6,5,8,9,6,7,8,9,5,5,5,5,5,5,5,5,5,5,5,5,5,5,5,5,5,5,5,5,5,5,5,5,5,5,5,5,5,4,6,23,22,25,28,1,14,15,18,89,56,35,74,58,26,15,36,95,39,2,3,56,17,42,487,58,97,53,56,417,65,435,25,685,47,275,43,31]\n",
    "#Creando el objeto a2 de la clase Herramientaa3 = Herramienta(lista1)"
   ]
  },
  {
   "cell_type": "code",
   "execution_count": 77,
   "metadata": {},
   "outputs": [
    {
     "name": "stdout",
     "output_type": "stream",
     "text": [
      "[1, 1, 1, 2, 2, 2, 2, 2, 2, 2, 2, 3, 5, 5, 5, 7, 5, 5, 5, 5, 5, 5, 5, 5, 5, 5, 5, 5, 5, 5, 5, 5, 5, 5, 5, 5, 5, 5, 5, 5, 5, 5, 5, 5, 5, 23, 1, 89]\n"
     ]
    }
   ],
   "source": [
    "#Llamando al metodo numeros primos del objeto a3\n",
    "a3.lista_numeros_primos()"
   ]
  },
  {
   "cell_type": "code",
   "execution_count": 78,
   "metadata": {},
   "outputs": [
    {
     "name": "stdout",
     "output_type": "stream",
     "text": [
      "El numero 5 es el numero que mas se ha repetido, repitiendose 32 veces\n"
     ]
    }
   ],
   "source": [
    "#Llamando al metodo contar del objeto a3\n",
    "a3.contar()"
   ]
  },
  {
   "cell_type": "code",
   "execution_count": 80,
   "metadata": {},
   "outputs": [
    {
     "name": "stdout",
     "output_type": "stream",
     "text": [
      "1.0 °F FarenHeith es igual a 255.92777777777775 °K grados Kelvin\n",
      "1.0 °F FarenHeith es igual a 255.92777777777775 °K grados Kelvin\n",
      "1.0 °F FarenHeith es igual a 255.92777777777775 °K grados Kelvin\n",
      "22.0 °F FarenHeith es igual a 267.59444444444443 °K grados Kelvin\n",
      "2.0 °F FarenHeith es igual a 256.4833333333333 °K grados Kelvin\n",
      "2.0 °F FarenHeith es igual a 256.4833333333333 °K grados Kelvin\n",
      "2.0 °F FarenHeith es igual a 256.4833333333333 °K grados Kelvin\n",
      "2.0 °F FarenHeith es igual a 256.4833333333333 °K grados Kelvin\n",
      "2.0 °F FarenHeith es igual a 256.4833333333333 °K grados Kelvin\n",
      "2.0 °F FarenHeith es igual a 256.4833333333333 °K grados Kelvin\n",
      "2.0 °F FarenHeith es igual a 256.4833333333333 °K grados Kelvin\n",
      "2.0 °F FarenHeith es igual a 256.4833333333333 °K grados Kelvin\n",
      "3.0 °F FarenHeith es igual a 257.0388888888889 °K grados Kelvin\n",
      "6.0 °F FarenHeith es igual a 258.7055555555555 °K grados Kelvin\n",
      "5.0 °F FarenHeith es igual a 258.15 °K grados Kelvin\n",
      "4.0 °F FarenHeith es igual a 257.59444444444443 °K grados Kelvin\n",
      "5.0 °F FarenHeith es igual a 258.15 °K grados Kelvin\n",
      "6.0 °F FarenHeith es igual a 258.7055555555555 °K grados Kelvin\n",
      "5.0 °F FarenHeith es igual a 258.15 °K grados Kelvin\n",
      "8.0 °F FarenHeith es igual a 259.81666666666666 °K grados Kelvin\n",
      "9.0 °F FarenHeith es igual a 260.3722222222222 °K grados Kelvin\n",
      "6.0 °F FarenHeith es igual a 258.7055555555555 °K grados Kelvin\n",
      "7.0 °F FarenHeith es igual a 259.26111111111106 °K grados Kelvin\n",
      "8.0 °F FarenHeith es igual a 259.81666666666666 °K grados Kelvin\n",
      "9.0 °F FarenHeith es igual a 260.3722222222222 °K grados Kelvin\n",
      "5.0 °F FarenHeith es igual a 258.15 °K grados Kelvin\n",
      "5.0 °F FarenHeith es igual a 258.15 °K grados Kelvin\n",
      "5.0 °F FarenHeith es igual a 258.15 °K grados Kelvin\n",
      "5.0 °F FarenHeith es igual a 258.15 °K grados Kelvin\n",
      "5.0 °F FarenHeith es igual a 258.15 °K grados Kelvin\n",
      "5.0 °F FarenHeith es igual a 258.15 °K grados Kelvin\n",
      "5.0 °F FarenHeith es igual a 258.15 °K grados Kelvin\n",
      "5.0 °F FarenHeith es igual a 258.15 °K grados Kelvin\n",
      "5.0 °F FarenHeith es igual a 258.15 °K grados Kelvin\n",
      "5.0 °F FarenHeith es igual a 258.15 °K grados Kelvin\n",
      "5.0 °F FarenHeith es igual a 258.15 °K grados Kelvin\n",
      "5.0 °F FarenHeith es igual a 258.15 °K grados Kelvin\n",
      "5.0 °F FarenHeith es igual a 258.15 °K grados Kelvin\n",
      "5.0 °F FarenHeith es igual a 258.15 °K grados Kelvin\n",
      "5.0 °F FarenHeith es igual a 258.15 °K grados Kelvin\n",
      "5.0 °F FarenHeith es igual a 258.15 °K grados Kelvin\n",
      "5.0 °F FarenHeith es igual a 258.15 °K grados Kelvin\n",
      "5.0 °F FarenHeith es igual a 258.15 °K grados Kelvin\n",
      "5.0 °F FarenHeith es igual a 258.15 °K grados Kelvin\n",
      "5.0 °F FarenHeith es igual a 258.15 °K grados Kelvin\n",
      "5.0 °F FarenHeith es igual a 258.15 °K grados Kelvin\n",
      "5.0 °F FarenHeith es igual a 258.15 °K grados Kelvin\n",
      "5.0 °F FarenHeith es igual a 258.15 °K grados Kelvin\n",
      "5.0 °F FarenHeith es igual a 258.15 °K grados Kelvin\n",
      "5.0 °F FarenHeith es igual a 258.15 °K grados Kelvin\n",
      "5.0 °F FarenHeith es igual a 258.15 °K grados Kelvin\n",
      "5.0 °F FarenHeith es igual a 258.15 °K grados Kelvin\n",
      "5.0 °F FarenHeith es igual a 258.15 °K grados Kelvin\n",
      "5.0 °F FarenHeith es igual a 258.15 °K grados Kelvin\n",
      "4.0 °F FarenHeith es igual a 257.59444444444443 °K grados Kelvin\n",
      "6.0 °F FarenHeith es igual a 258.7055555555555 °K grados Kelvin\n",
      "23.0 °F FarenHeith es igual a 268.15 °K grados Kelvin\n",
      "22.0 °F FarenHeith es igual a 267.59444444444443 °K grados Kelvin\n",
      "25.0 °F FarenHeith es igual a 269.26111111111106 °K grados Kelvin\n",
      "28.0 °F FarenHeith es igual a 270.92777777777775 °K grados Kelvin\n",
      "1.0 °F FarenHeith es igual a 255.92777777777775 °K grados Kelvin\n",
      "14.0 °F FarenHeith es igual a 263.15 °K grados Kelvin\n",
      "15.0 °F FarenHeith es igual a 263.7055555555555 °K grados Kelvin\n",
      "18.0 °F FarenHeith es igual a 265.3722222222222 °K grados Kelvin\n",
      "89.0 °F FarenHeith es igual a 304.81666666666666 °K grados Kelvin\n",
      "56.0 °F FarenHeith es igual a 286.4833333333333 °K grados Kelvin\n",
      "35.0 °F FarenHeith es igual a 274.81666666666666 °K grados Kelvin\n",
      "74.0 °F FarenHeith es igual a 296.4833333333333 °K grados Kelvin\n",
      "58.0 °F FarenHeith es igual a 287.59444444444443 °K grados Kelvin\n",
      "26.0 °F FarenHeith es igual a 269.81666666666666 °K grados Kelvin\n",
      "15.0 °F FarenHeith es igual a 263.7055555555555 °K grados Kelvin\n",
      "36.0 °F FarenHeith es igual a 275.3722222222222 °K grados Kelvin\n",
      "95.0 °F FarenHeith es igual a 308.15 °K grados Kelvin\n",
      "39.0 °F FarenHeith es igual a 277.0388888888889 °K grados Kelvin\n"
     ]
    }
   ],
   "source": [
    "#Llamando al metodo termometro del objeto a3\n",
    "a2.termometro('F','k')"
   ]
  },
  {
   "cell_type": "code",
   "execution_count": 79,
   "metadata": {},
   "outputs": [
    {
     "name": "stdout",
     "output_type": "stream",
     "text": [
      "1\n",
      "1\n",
      "1\n",
      "1124000727777607680000\n",
      "2\n",
      "2\n",
      "2\n",
      "2\n",
      "2\n",
      "2\n",
      "2\n",
      "2\n",
      "6\n",
      "720\n",
      "120\n",
      "24\n",
      "120\n",
      "720\n",
      "120\n",
      "40320\n",
      "362880\n",
      "720\n",
      "5040\n",
      "40320\n",
      "362880\n",
      "120\n",
      "120\n",
      "120\n",
      "120\n",
      "120\n",
      "120\n",
      "120\n",
      "120\n",
      "120\n",
      "120\n",
      "120\n",
      "120\n",
      "120\n",
      "120\n",
      "120\n",
      "120\n",
      "120\n",
      "120\n",
      "120\n",
      "120\n",
      "120\n",
      "120\n",
      "120\n",
      "120\n",
      "120\n",
      "120\n",
      "120\n",
      "120\n",
      "120\n",
      "24\n",
      "720\n",
      "25852016738884976640000\n",
      "1124000727777607680000\n",
      "15511210043330985984000000\n",
      "304888344611713860501504000000\n",
      "1\n",
      "87178291200\n",
      "1307674368000\n",
      "6402373705728000\n",
      "16507955160908461081216919262453619309839666236496541854913520707833171034378509739399912570787600662729080382999756800000000000000000000\n",
      "710998587804863451854045647463724949736497978881168458687447040000000000000\n",
      "10333147966386144929666651337523200000000\n",
      "330788544151938641225953028221253782145683251820934971170611926835411235700971565459250872320000000000000000\n",
      "2350561331282878571829474910515074683828862318181142924420699914240000000000000\n",
      "403291461126605635584000000\n",
      "1307674368000\n",
      "371993326789901217467999448150835200000000\n",
      "10329978488239059262599702099394727095397746340117372869212250571234293987594703124871765375385424468563282236864226607350415360000000000000000000000\n",
      "20397882081197443358640281739902897356800000000\n"
     ]
    }
   ],
   "source": [
    "#Llamando al metodo factorial del objeto a3\n",
    "a3.factoriale()"
   ]
  },
  {
   "cell_type": "code",
   "execution_count": null,
   "metadata": {},
   "outputs": [],
   "source": []
  }
 ],
 "metadata": {
  "interpreter": {
   "hash": "c85384e4cb51c8b72350f3a8712cc8351fdc3955e32a27f9b60c6242ab125f01"
  },
  "kernelspec": {
   "display_name": "Python 3 (ipykernel)",
   "language": "python",
   "name": "python3"
  },
  "language_info": {
   "codemirror_mode": {
    "name": "ipython",
    "version": 3
   },
   "file_extension": ".py",
   "mimetype": "text/x-python",
   "name": "python",
   "nbconvert_exporter": "python",
   "pygments_lexer": "ipython3",
   "version": "3.10.4"
  }
 },
 "nbformat": 4,
 "nbformat_minor": 4
}
